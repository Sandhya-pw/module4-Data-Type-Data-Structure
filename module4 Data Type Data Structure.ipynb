{
  "nbformat": 4,
  "nbformat_minor": 0,
  "metadata": {
    "colab": {
      "provenance": []
    },
    "kernelspec": {
      "name": "python3",
      "display_name": "Python 3"
    },
    "language_info": {
      "name": "python"
    }
  },
  "cells": [
    {
      "cell_type": "markdown",
      "source": [
        "THEORETICAL QUESTIONS"
      ],
      "metadata": {
        "id": "VvTLkkyjMUYX"
      }
    },
    {
      "cell_type": "code",
      "source": [
        "#1. What are data structures, and why are they important?\n",
        "\n",
        "''' Data structures are ways of organizing and storing data to enable efficient access, modification, and management.\n",
        "\n",
        "    They are important because they optimize performance, improve resource utilization,\n",
        "    and make problem-solving more efficient by ensuring scalability, maintainability, and faster data operations.\n",
        "\n",
        "eg. list (List is a linear data structure that stores a collection of items, which can be of different types),\n",
        "    string (A string is essentially a sequence of characters)\n",
        "\n",
        "    IMPORTANCE\n",
        "\n",
        "1.Data Management: They provide different ways of organizing data that are optimized for various types of operations (e.g., remove, sort, append etc).\n",
        "\n",
        "2.Memory Usage: They allow you to use memory and hence enhance processing even of large data sets.\n",
        "e.g, tuples consume less memory compared to lists when data doesn't need to change.\n",
        "\n",
        "3.Scalability: Data structures allow operations to remain fast and efficient even with very large data sets.\n",
        "\n",
        "4.Code Clarity: Right data structure makes code easy to use and maintain.\n",
        "\n",
        "5.Problem Solving: Many real-world problems can be solved effeciently using data structures, eg. storing ordered data (lists), ensuring uniqueness (sets) etc.'''"
      ],
      "metadata": {
        "id": "-6LxWZLiMTVp"
      },
      "execution_count": null,
      "outputs": []
    },
    {
      "cell_type": "code",
      "source": [
        "#2.Explain the difference between mutable and immutable data types with examples?\n",
        "\n",
        "'''Mutable Data Types\n",
        "1.Can be changed after creation, like adding/removing elements.\n",
        "eg. Lists, Sets, Dictionaries\n",
        "2.Changes affect the original object in memory, so generally, slightly slower due to such dynamic resizing.\n",
        "3. Usages is when we require to modify the data. eg. building a to-do list\n",
        "\n",
        "Immutable Data Types\n",
        "1.Cannot be changed once created. (Modifications create a new object.)\n",
        "eg. Strings, Tuples, Integers, Floats\n",
        "2.More memory-efficient due to immutability/no resizing of object in memory. New memory is allocated for every new object.\n",
        "3.Usage is when need to ensure data integrity or avoid side effects.\n",
        "eg storing configuration settings that should not change after initialization.'''"
      ],
      "metadata": {
        "id": "XKVbPeAk43HQ"
      },
      "execution_count": null,
      "outputs": []
    },
    {
      "cell_type": "code",
      "source": [
        "#3.What are the main differences between lists and tuples in Python?\n",
        "'''Lists\n",
        "1.Mutable data set(can be modified).\n",
        "2.Defined with square brackets [].\n",
        "3.Performance is slightly slower due to mutability/flexibility.\n",
        "4.Higher memory usage due to dynamic resizing.\n",
        "5.Used for dynamic collections (e.g., to-do lists, shopping cart).\n",
        "6.Supports many methods like .append(),.remove().\n",
        "7.Can contain mutable elements (e.g., lists inside a list).'''\n",
        "\n",
        "shopping_cart = ['Laptop', 'Mouse', 'Keyboard']\n",
        "shopping_cart.append('Headphones')\n",
        "print(\"new cart is:\", shopping_cart)\n",
        "\n",
        "\n",
        "'''Tuples\n",
        "1.Immutable (cannot be modified).\n",
        "2.Defined with parentheses ().\n",
        "3.Faster due to immutability/fixed structure.\n",
        "4.Lower memory usage due to immutability.\n",
        "5.Used for constant, unchanging data (e.g., coordinates, configuration).\n",
        "6.Fewer methods (e.g., .count(), .index()) due to immutability.\n",
        "7.Can contain mutable elements, but cannot be modified.'''\n",
        "\n",
        "config = ('mode', 16, 'IND')\n"
      ],
      "metadata": {
        "id": "TliOGpqE44OD",
        "colab": {
          "base_uri": "https://localhost:8080/"
        },
        "outputId": "370aa006-229a-4ca8-e3e8-923ea53ee91b"
      },
      "execution_count": null,
      "outputs": [
        {
          "output_type": "stream",
          "name": "stdout",
          "text": [
            "new cart is: ['Laptop', 'Mouse', 'Keyboard', 'Headphones']\n"
          ]
        }
      ]
    },
    {
      "cell_type": "code",
      "source": [
        "#4.Describe how dictionaries store data.\n",
        "'''Dictionaries in Python are unordered collections that store data in key-value pairs.\n",
        "   Each key is unique, and each key is mapped to a corresponding value.\n",
        "\n",
        "   keys are unique and immutable (hashable),\n",
        "   while values can be of any data type (mutable or immutable)(non-hashbale) and can be duplicate values.\n",
        "\n",
        "   Dictionaries are mutable because you can modify them after they have been created (Add/remove new key-value pairs).'''\n",
        "\n",
        "my_dict = {\"name\": \"John\", \"age\": 30, \"city\": \"New York\"}\n",
        "\n",
        "my_dict[\"job\"] = \"Engineer\" # Inserting a new key-value pair\n",
        "\n",
        "print(my_dict)\n"
      ],
      "metadata": {
        "id": "3qDDlUV944Y-",
        "colab": {
          "base_uri": "https://localhost:8080/"
        },
        "outputId": "9d0dc21e-915c-4ce6-8864-b44809fbd1c4"
      },
      "execution_count": null,
      "outputs": [
        {
          "output_type": "stream",
          "name": "stdout",
          "text": [
            "{'name': 'John', 'age': 30, 'city': 'New York', 'job': 'Engineer'}\n"
          ]
        }
      ]
    },
    {
      "cell_type": "code",
      "source": [
        "#5.Why might you use a set instead of a list in Python?\n",
        "'''In Python, sets and lists serve different purposes, and choosing one over the other depends on the specific requirements of the task.\n",
        "Here’s are reasons to might choose a set over a list:\n",
        "\n",
        "1. Ensure uniqueness: When need to ensure no repeated values, like tracking unique users, items, or events.\n",
        "Lists allow duplicates, so if uniqueness is important, you would need to manually handle it.\n",
        "\n",
        "2. Execute complex set operations like union, and intersection making it easy to compare, combine, or find common elements between collections.\n",
        "Lists require custom loops or list comprehensions for these operations, which can be slower and more complex.\n",
        "\n",
        "3. Sets are unordered, means not store elements in any particular order. So, ideal when fast operations and unique elements preferred over order.\n",
        "Lists are preferred, if the order matters.\n",
        "\n",
        "4. Sets can be more memory-efficient than lists when dealing with large data sets because\n",
        "they don’t store duplicates and their underlying data structure is optimized for quick access.'''"
      ],
      "metadata": {
        "id": "3GctRSgg44jH"
      },
      "execution_count": null,
      "outputs": []
    },
    {
      "cell_type": "code",
      "source": [
        "#6.What is a string in Python, and how is it different from a list?\n",
        "'''String:\n",
        "A string in Python is a sequence of characters, used to represent text.\n",
        "\n",
        "Differences:\n",
        "\n",
        "Strings only store text, while a list is an ordered collection of elements, which can be of any data type,\n",
        "like numbers, string, and even other lists.\n",
        "\n",
        "Strings are immutable, meaning once they are created, they cannot be changed in place.\n",
        "While Lists are mutable, meaning can modify the elements after the list is created.\n",
        "\n",
        "Operations like slicing, concatenation,.replace() etc can be performed on strings.\n",
        "While even appending, removing, slicing can be performed on lists.'''"
      ],
      "metadata": {
        "id": "UyE_qDT744tj"
      },
      "execution_count": null,
      "outputs": []
    },
    {
      "cell_type": "code",
      "source": [
        "#7.How do tuples ensure data integrity in Python?\n",
        "\n",
        "'''Tuples are immutable, meaning their contents cannot be changed once created. This prevents accidental modifications.\n",
        "Thus, ensure that critical data remains unchanged throughout the program.\n",
        "\n",
        "Since, Tuples are hashable (immutable) and can be used as dictionary keys,\n",
        "that in turns preserve data integrity associated with that key.\n",
        "\n",
        "Tuples are often used for fixed data (e.g., configuration settings), ensuring the data integrity is maintained.\n",
        "\n",
        "While tuples are immutable, if they contain mutable objects (like lists),\n",
        "those objects can still be modified. The tuple structure itself is still protected,\n",
        "ensuring that the overall container remains consistent and unchanged.'''"
      ],
      "metadata": {
        "id": "0pc8xvms444O"
      },
      "execution_count": null,
      "outputs": []
    },
    {
      "cell_type": "code",
      "source": [
        "#8 What is a hash table, and how does it relate to dictionaries in Python?\n",
        "''' hash table means immutable/unique.\n",
        "A hash table is a way/data structre to store data so that we can quickly find it later.\n",
        "It stores information in key-value pairs, where each key is unique and is used to find its corresponding value.\n",
        "\n",
        "In Python, dictionaries are built on hash tables.\n",
        "Keys in a dictionary are hashed to find their corresponding values.\n",
        "\n",
        "meaning, a hash function, give a unique value (hash value) to the keys.\n",
        "This number helps locate where the data corresponding to the key is stored in memory.\n",
        "\n",
        "This allows for fast insertions, deletions, and other operations.'''"
      ],
      "metadata": {
        "id": "6qtDRJuh45C4"
      },
      "execution_count": null,
      "outputs": []
    },
    {
      "cell_type": "code",
      "source": [
        "#9 Can lists contain different data types in Python?\n",
        "''' Yes, A list in Python is a versatile data structure that is heterogeneous in nature.\n",
        " That is,  it can store elements of different data types in a single collection.\n",
        "\n",
        "A variety of data types can be stored in a list, such as:\n",
        "like string, boolena values, float, numbers, complex number anything.\n",
        "\n",
        "This flexibility is one of the key features of Python lists.'''\n",
        "\n",
        "my_list = [1, \"apple\", 3.14, True, [2, 3]]\n",
        "print(my_list)\n",
        "type(my_list)\n"
      ],
      "metadata": {
        "id": "8eFGfj3245MS",
        "colab": {
          "base_uri": "https://localhost:8080/"
        },
        "outputId": "40fdefd3-86ca-423e-9237-329215d72857"
      },
      "execution_count": null,
      "outputs": [
        {
          "output_type": "stream",
          "name": "stdout",
          "text": [
            "[1, 'apple', 3.14, True, [2, 3]]\n"
          ]
        },
        {
          "output_type": "execute_result",
          "data": {
            "text/plain": [
              "list"
            ]
          },
          "metadata": {},
          "execution_count": 1
        }
      ]
    },
    {
      "cell_type": "code",
      "source": [
        "#10 Explain why strings are immutable in Python.\n",
        "''' In Python, strings are immutable,i.e their content cannot be changed after they are created.\n",
        "\n",
        "Possible reasons behind this design:\n",
        "\n",
        "Memory Efficiency:Every modification require a new allocation of memory in python,\n",
        "since string are immutable, no new allocation of memeory required, hence are more memory effecient.\n",
        "\n",
        "Hashable Objects: To ensure consistency in hash-based collections, like dictionaries, string are very helpful as they are immutable.\n",
        "\n",
        "Consistency: Since immutable, they are well proteched from accidental modifications, hence maintain data consistency.'''\n",
        "\n",
        "eg. of consistencey\n",
        "s = \"hello\"\n",
        "s = s + \" world\"  # this doesn't modify 's', it creates a new string\n"
      ],
      "metadata": {
        "id": "rRChZUph45Wc"
      },
      "execution_count": null,
      "outputs": []
    },
    {
      "cell_type": "code",
      "source": [
        "#11 What advantages do dictionaries offer over lists for certain tasks?\n",
        "'''1. Dictionaries allow to find values quickly using a key, while it takes time in list to search through it.\n",
        "\n",
        "2. Dictionaries don’t allow duplicate keys. This make sure data to stays unique,\n",
        "   while lists can have the same item multiple times.\n",
        "\n",
        "3. Adding and removing of items are faster in dictionaries as no shuffle of elements required,\n",
        "   while in list it may require and hence takes more time.\n",
        "\n",
        "4. Dictionaries are more versatile for real world problem, like counting occurrences or grouping data,\n",
        "   as unlike list they support complex nested structures like dictionaries of dictionaries.'''"
      ],
      "metadata": {
        "id": "zbthQ-Km45fB"
      },
      "execution_count": null,
      "outputs": []
    },
    {
      "cell_type": "code",
      "source": [
        "#13 How do sets handle duplicate values in Python?\n",
        "''' A set is an unordered collection of unique elements.\n",
        "If we try to include a duplicate value, sets will automatically remove it.\n",
        "\n",
        "This is done by implementing hash tables internally,\n",
        "if hash(unique immutable value) of new element matches with an existing element, the new element is not added.'''\n",
        "\n",
        "my_set = {1, 2, 3}\n",
        "my_set.add(2)  # Duplicate,not added\n",
        "my_set.add(4)  # New item, will be added\n",
        "print(my_set)  # Output: {1, 2, 3, 4}\n",
        "\n"
      ],
      "metadata": {
        "id": "Fj2Dehab45n-",
        "colab": {
          "base_uri": "https://localhost:8080/"
        },
        "outputId": "840fdbad-2f6f-43ec-c60a-0a3dde30f6d6"
      },
      "execution_count": null,
      "outputs": [
        {
          "output_type": "stream",
          "name": "stdout",
          "text": [
            "{1, 2, 3, 4}\n"
          ]
        }
      ]
    },
    {
      "cell_type": "code",
      "source": [
        "#12 Describe a scenario where using a tuple would be preferable over a list.\n",
        "'''A tuple is preferable over a list when the stored data should not be changed.\n",
        "Using a tuple ensures that the data remains constant, and avoid accidental modification.\n",
        "\n",
        "We can use tuple when there is data with fixed structure like days of the week,\n",
        " coordinates (latitude and longitude) of a location, Aadahr care IDs etc.'''"
      ],
      "metadata": {
        "id": "5r-A-RVn45vK"
      },
      "execution_count": null,
      "outputs": []
    },
    {
      "cell_type": "code",
      "source": [
        "#14 How does the “in” keyword work differently for lists and dictionaries?\n",
        "''' \"in\" means \"value in list\".\n",
        "When used with a list, the \"in\" keyword checks if a value is present in the list or not.'''\n",
        "\n",
        "l = [1, 2, 3, 4]\n",
        "if 5 in l:    #5 is value here\n",
        "  print (True)\n",
        "else:\n",
        "  print(False)\n",
        "\n",
        "'''While, when used in dictionaries, it checks if a \"key in the dictionary\" exists and not the value.'''\n",
        "\n",
        "d = {'a': 1, 'b': 2, 'c': 3}\n",
        "if 'b' in d:    #b is key here, not value\n",
        "  print (True)\n",
        "else:\n",
        "  print(False)"
      ],
      "metadata": {
        "id": "ESleRLxw451t",
        "colab": {
          "base_uri": "https://localhost:8080/"
        },
        "outputId": "54ef1d8e-c7a2-4bb5-cf4e-163421166bc0"
      },
      "execution_count": null,
      "outputs": [
        {
          "output_type": "stream",
          "name": "stdout",
          "text": [
            "False\n",
            "True\n"
          ]
        }
      ]
    },
    {
      "cell_type": "code",
      "source": [
        "#15 Can you modify the elements of a tuple? Explain why or why not.\n",
        "\n",
        "'''No, we cannot modify the elements of a tuple in Python, because tuples are immutable.\n",
        " i.e. once created, its elements cannot be changed, added, or removed.\n",
        "\n",
        "We cannot modify a tuple because they are designed to be immutable.\n",
        "\n",
        "Immutability provides advantages in data management by preventing accidental mutations.\n",
        "\n",
        "It also helps the system optimize memory usage efficiently,\n",
        "as there is no resizing or changing of elements, meaning no need for memory reallocation.'''"
      ],
      "metadata": {
        "id": "7-e5ZNjs457-"
      },
      "execution_count": null,
      "outputs": []
    },
    {
      "cell_type": "code",
      "source": [
        "#16 What is a nested dictionary, and give an example of its use case?\n",
        "\n",
        "'''A nested dictionary is a dictionary inside another dictionary.\n",
        "The first dictionary holds keys and values, and value of a these key is another dictionary.'''\n",
        "\n",
        "users = {\n",
        "    'person1': {'name': 'Alice', 'age': 30},\n",
        "    'person2': {'name': 'Bob', 'age': 25}\n",
        "}\n",
        "\n",
        "# Accessing a person's name and others age\n",
        "print(users['person1']['name'])\n",
        "print(users['person2']['age'])\n",
        "\n",
        "'''Here, in outer dictionary, key:person1 and person2, value:inner dictionary\n",
        " inner dictionary of person1, key: name, age, value: Alice, 30.\n",
        " inner dictionary of person2, key: name, age, value: Bob,25.'''\n"
      ],
      "metadata": {
        "id": "2oqdDAh-46BA",
        "colab": {
          "base_uri": "https://localhost:8080/"
        },
        "outputId": "3a580f77-fa77-402d-d2ce-89d5d63aeed1"
      },
      "execution_count": null,
      "outputs": [
        {
          "output_type": "stream",
          "name": "stdout",
          "text": [
            "Alice\n",
            "25\n"
          ]
        }
      ]
    },
    {
      "cell_type": "code",
      "source": [
        "#17 Describe the time complexity of accessing elements in a dictionary.\n",
        "\n",
        "'''The time complexity of accessing elements in a dictionary in Python is O(1) on average,\n",
        " meaning it takes constant time, regardless of the size of the dictionary.\n",
        " This is because dictionaries are implemented using hash tables to store the data, allowing quick access to values using keys\n",
        "\n",
        " Explanation:\n",
        "\n",
        " When,access a value in a dictionary using a key, hash function computes a unique value to that key.\n",
        " This value indicates the corresponding value of the key in the memory.\n",
        "\n",
        " Since the location of the value is directly determined by the hash,\n",
        " retrieving the value is very efficient and happens in constant time on average '''"
      ],
      "metadata": {
        "id": "X0ymovN_46Fw"
      },
      "execution_count": null,
      "outputs": []
    },
    {
      "cell_type": "code",
      "source": [
        "#18 In what situations are lists preferred over dictionaries?\n",
        "'''Possible Scenarios:\n",
        "\n",
        "1. When the order of elements matters because Lists maintain the order in which items are inserted.\n",
        "eg.A playlist of songs\n",
        "\n",
        "2. When data is required to accessed by position of item (index).\n",
        "eg. Accessing the first temperature reading in a list of daily temperatures.\n",
        "\n",
        "3. When a single operation needs to perform on all the items,\n",
        "i.e iteration through all elements.\n",
        "eg. Doubling the values in a list of numbers.\n",
        "\n",
        "4. When there’s no need to associate values with unique keys, lists provide a simpler solution compared to dictionaries.\n",
        "eg.A shopping list of items to buy.'''"
      ],
      "metadata": {
        "id": "hF8LiPJv46Kg"
      },
      "execution_count": null,
      "outputs": []
    },
    {
      "cell_type": "code",
      "source": [
        "#19 Why are dictionaries considered unordered, and how does that affect data retrieval?\n",
        "\n",
        "'''Dictionaries are considered unordered because the elements (key-value pairs) are not stored\n",
        " in any particular sequence, even if inserted in a particular order.\n",
        "\n",
        " Data retrieval is NOT affected by the order because values are accessed by key, not by position.\n",
        " also, since keys are hashed, the process of data retrival is fast in dictionaries.'''"
      ],
      "metadata": {
        "id": "ybpvVKO346PC"
      },
      "execution_count": null,
      "outputs": []
    },
    {
      "cell_type": "code",
      "source": [
        "#20 Explain the difference between a list and a dictionary in terms of data retrieval.\n",
        "'''\n",
        "List is an ordered collection of elements, meaning each element is stored at a specific position in the list.\n",
        "This order is maintained while retriving data, since it is done by indexing.\n",
        "i.e Data retrieval in a list is position based.'''\n",
        "\n",
        "my_list = [10, 20, 30]\n",
        "print(my_list[1]) # 1 is index(position) here\n",
        "\n",
        "'''While dictionary is an unordered collection of key-value pairs, where each key maps to a specific value.\n",
        "and data retrieval in a dictionary is done using these key and is not positioned based.\n",
        "eg. my_dict['key1'], access using key'''\n",
        "\n",
        "my_dict = {'a': 10, 'b': 20, 'c': 30}\n",
        "print(my_dict['b'])  #b is key here"
      ],
      "metadata": {
        "id": "WDQSdUAu46U_",
        "colab": {
          "base_uri": "https://localhost:8080/"
        },
        "outputId": "b363f3f7-3a87-4500-9258-43ed30b357fe"
      },
      "execution_count": null,
      "outputs": [
        {
          "output_type": "stream",
          "name": "stdout",
          "text": [
            "20\n",
            "20\n"
          ]
        }
      ]
    },
    {
      "cell_type": "markdown",
      "source": [
        "PRACTICAL QUESTIONS"
      ],
      "metadata": {
        "id": "u-LaWS_uMJPq"
      }
    },
    {
      "cell_type": "code",
      "source": [
        "#1.Write a code to create a string with your name and print it.\n",
        "s=\"Sandhya\"\n",
        "print(s)"
      ],
      "metadata": {
        "id": "12HWiwVsMEAn",
        "colab": {
          "base_uri": "https://localhost:8080/"
        },
        "outputId": "03b0ba4a-a142-46be-a1df-5ae147b2640e"
      },
      "execution_count": null,
      "outputs": [
        {
          "output_type": "stream",
          "name": "stdout",
          "text": [
            "Sandhya\n"
          ]
        }
      ]
    },
    {
      "cell_type": "code",
      "source": [
        "#2. Write a code to find the length of the string \"Hello World\".\n",
        "s= \"Hello World\"\n",
        "result=len(s)\n",
        "print(\"length of the string is:\", result)"
      ],
      "metadata": {
        "id": "om1mqGR6NHGv",
        "colab": {
          "base_uri": "https://localhost:8080/"
        },
        "outputId": "266339b2-9cc2-4659-f14f-fe1b73618130"
      },
      "execution_count": null,
      "outputs": [
        {
          "output_type": "stream",
          "name": "stdout",
          "text": [
            "length of the string is: 11\n"
          ]
        }
      ]
    },
    {
      "cell_type": "code",
      "source": [
        "#3. Write a code to slice the first 3 characters from the string \"Python Programming\".\n",
        "s=\"Python Programming\"\n",
        "slice_string=s[0:3:1]\n",
        "print(\"sliced string is:\", slice_string)"
      ],
      "metadata": {
        "id": "ywUFLUi8NHUF",
        "colab": {
          "base_uri": "https://localhost:8080/"
        },
        "outputId": "7e8cdcd4-3a0e-4229-8131-961eb62b5811"
      },
      "execution_count": null,
      "outputs": [
        {
          "output_type": "stream",
          "name": "stdout",
          "text": [
            "sliced string is: Pyt\n"
          ]
        }
      ]
    },
    {
      "cell_type": "code",
      "source": [
        "#4. Write a code to convert the string \"hello\" to uppercase.\n",
        "s=\"hello\"\n",
        "result=s.upper()\n",
        "print(result)"
      ],
      "metadata": {
        "id": "SLXVzAyQNHd3",
        "colab": {
          "base_uri": "https://localhost:8080/"
        },
        "outputId": "deb9b3f1-a634-4dc7-c4aa-d6bce5fcc80c"
      },
      "execution_count": null,
      "outputs": [
        {
          "output_type": "stream",
          "name": "stdout",
          "text": [
            "HELLO\n"
          ]
        }
      ]
    },
    {
      "cell_type": "code",
      "source": [
        "#5. Write a code to replace the word \"apple\" with \"orange\" in the string \"I like apple\".\n",
        "s=\"I like apple\"\n",
        "s.replace(\"apple\",\"orange\")\n",
        "print(s)"
      ],
      "metadata": {
        "id": "TGCTNEQjNHfo",
        "colab": {
          "base_uri": "https://localhost:8080/"
        },
        "outputId": "3b5292c1-a794-4ac2-a453-b0bee5742acb"
      },
      "execution_count": null,
      "outputs": [
        {
          "output_type": "stream",
          "name": "stdout",
          "text": [
            "I like apple\n"
          ]
        }
      ]
    },
    {
      "cell_type": "code",
      "source": [
        "#6. Write a code to create a list with numbers 1 to 5 and print it.\n",
        "l=list(range(1,6))\n",
        "print(l)"
      ],
      "metadata": {
        "id": "wBLyN3MHNHhd",
        "colab": {
          "base_uri": "https://localhost:8080/"
        },
        "outputId": "2823e169-a60c-4795-a7f9-52e219d60c2b"
      },
      "execution_count": null,
      "outputs": [
        {
          "output_type": "stream",
          "name": "stdout",
          "text": [
            "[1, 2, 3, 4, 5]\n"
          ]
        }
      ]
    },
    {
      "cell_type": "code",
      "source": [
        "#7. Write a code to append the number 10 to the list [1, 2, 3, 4].\n",
        "l=[1, 2, 3, 4]\n",
        "l.append(10)\n",
        "print(l)"
      ],
      "metadata": {
        "id": "xLEpIKWnNHjY",
        "colab": {
          "base_uri": "https://localhost:8080/"
        },
        "outputId": "33ab6a85-4540-4271-e45a-261040274a3f"
      },
      "execution_count": null,
      "outputs": [
        {
          "output_type": "stream",
          "name": "stdout",
          "text": [
            "[1, 2, 3, 4, 10]\n"
          ]
        }
      ]
    },
    {
      "cell_type": "code",
      "source": [
        "#8. Write a code to remove the number 3 from the list [1, 2, 3, 4, 5].\n",
        "l=[1, 2, 3, 4, 5]\n",
        "l.remove(3)\n",
        "print(l)"
      ],
      "metadata": {
        "id": "14oaQz9cNHlT",
        "colab": {
          "base_uri": "https://localhost:8080/"
        },
        "outputId": "735cf74e-e60d-451b-d183-f8f8551bf92e"
      },
      "execution_count": null,
      "outputs": [
        {
          "output_type": "stream",
          "name": "stdout",
          "text": [
            "[1, 2, 4, 5]\n"
          ]
        }
      ]
    },
    {
      "cell_type": "code",
      "source": [
        "#9. Write a code to access the second element in the list ['a', 'b', 'c', 'd'].\n",
        "l=['a', 'b', 'c', 'd']\n",
        "access=l[1]\n",
        "print(access)"
      ],
      "metadata": {
        "id": "o6ngnsvwNHo-",
        "colab": {
          "base_uri": "https://localhost:8080/"
        },
        "outputId": "5d4029cd-7984-4b47-a074-6d044852d196"
      },
      "execution_count": null,
      "outputs": [
        {
          "output_type": "stream",
          "name": "stdout",
          "text": [
            "b\n"
          ]
        }
      ]
    },
    {
      "cell_type": "code",
      "source": [
        "#10. Write a code to reverse the list [10, 20, 30, 40, 50].\n",
        "l=[10, 20, 30, 40, 50]\n",
        "l.reverse()\n",
        "print(l)"
      ],
      "metadata": {
        "id": "yS45FkcDNcic",
        "colab": {
          "base_uri": "https://localhost:8080/"
        },
        "outputId": "9881bb15-8a93-473a-f088-28aa42b46b99"
      },
      "execution_count": null,
      "outputs": [
        {
          "output_type": "stream",
          "name": "stdout",
          "text": [
            "[50, 40, 30, 20, 10]\n"
          ]
        }
      ]
    },
    {
      "cell_type": "code",
      "source": [
        "#11. Write a code to create a tuple with the elements 100, 200, 300 and print it.\n",
        "l=100, 200, 300\n",
        "my_tuple=tuple(l)\n",
        "print(l)\n",
        "type(l)"
      ],
      "metadata": {
        "id": "YbsO9Ua3Nexo",
        "colab": {
          "base_uri": "https://localhost:8080/"
        },
        "outputId": "2aec81e5-52db-4ec4-a4a9-8cfc114afc51"
      },
      "execution_count": null,
      "outputs": [
        {
          "output_type": "stream",
          "name": "stdout",
          "text": [
            "(100, 200, 300)\n"
          ]
        },
        {
          "output_type": "execute_result",
          "data": {
            "text/plain": [
              "tuple"
            ]
          },
          "metadata": {},
          "execution_count": 45
        }
      ]
    },
    {
      "cell_type": "code",
      "source": [
        "#12. Write a code to access the second-to-last element of the tuple ('red', 'green', 'blue', 'yellow').\n",
        "t=('red', 'green', 'blue', 'yellow')\n",
        "access=t[-2]\n",
        "print(access)"
      ],
      "metadata": {
        "id": "yhCqR6AtNe9V",
        "colab": {
          "base_uri": "https://localhost:8080/"
        },
        "outputId": "3c858bbb-fee4-4929-8f85-fd834018cb47"
      },
      "execution_count": null,
      "outputs": [
        {
          "output_type": "stream",
          "name": "stdout",
          "text": [
            "blue\n"
          ]
        }
      ]
    },
    {
      "cell_type": "code",
      "source": [
        "#13. Write a code to find the minimum number in the tuple (10, 20, 5, 15).\n",
        "t=(10, 20, 5, 15)\n",
        "result=min(t)\n",
        "print(result)"
      ],
      "metadata": {
        "id": "twgnq7rXNfCl",
        "colab": {
          "base_uri": "https://localhost:8080/"
        },
        "outputId": "3aa85728-6c6e-4e65-a5a8-cd291f563677"
      },
      "execution_count": null,
      "outputs": [
        {
          "output_type": "stream",
          "name": "stdout",
          "text": [
            "5\n"
          ]
        }
      ]
    },
    {
      "cell_type": "code",
      "source": [
        "#14. Write a code to find the index of the element \"cat\" in the tuple ('dog', 'cat', 'rabbit').\n",
        "t=('dog', 'cat', 'rabbit')\n",
        "result=t.index(\"cat\")\n",
        "print(result)"
      ],
      "metadata": {
        "id": "wRyYKPppNfEM",
        "colab": {
          "base_uri": "https://localhost:8080/"
        },
        "outputId": "e3ea6e84-3f09-45be-c453-c694d7c628ce"
      },
      "execution_count": null,
      "outputs": [
        {
          "output_type": "stream",
          "name": "stdout",
          "text": [
            "1\n"
          ]
        }
      ]
    },
    {
      "cell_type": "code",
      "source": [
        "#15. Write a code to create a tuple containing three different fruits and check if \"kiwi\" is in it.\n",
        "\n",
        "fruits = ('apple', 'banana', 'kiwi')\n",
        "\n",
        "if \"kiwi\" in fruits:\n",
        "    print(\"Kiwi is in the tuple.\")\n",
        "else:\n",
        "    print(\"Kiwi is not in the tuple.\")\n"
      ],
      "metadata": {
        "id": "PLBgVMHMNfF8",
        "colab": {
          "base_uri": "https://localhost:8080/"
        },
        "outputId": "bb70eafb-5794-4d4a-fe84-8cbc079b440f"
      },
      "execution_count": null,
      "outputs": [
        {
          "output_type": "stream",
          "name": "stdout",
          "text": [
            "Kiwi is in the tuple.\n"
          ]
        }
      ]
    },
    {
      "cell_type": "code",
      "source": [
        "#16. Write a code to create a set with the elements 'a', 'b', 'c' and print it.\n",
        "s='a', 'b', 'c'\n",
        "my_set=set(s)\n",
        "print(my_set)\n",
        "type(my_set)"
      ],
      "metadata": {
        "id": "LiX3lUTjNfHx",
        "colab": {
          "base_uri": "https://localhost:8080/"
        },
        "outputId": "e03fdc38-c376-42c9-c05f-551843d76da2"
      },
      "execution_count": null,
      "outputs": [
        {
          "output_type": "stream",
          "name": "stdout",
          "text": [
            "{'a', 'c', 'b'}\n"
          ]
        },
        {
          "output_type": "execute_result",
          "data": {
            "text/plain": [
              "set"
            ]
          },
          "metadata": {},
          "execution_count": 50
        }
      ]
    },
    {
      "cell_type": "code",
      "source": [
        "#17. Write a code to clear all elements from the set {1, 2, 3, 4, 5}.\n",
        "s={1, 2, 3, 4, 5}\n",
        "s.clear()\n",
        "print(\"cleared set is;\", s)"
      ],
      "metadata": {
        "id": "tXuHVU7XNfJx",
        "colab": {
          "base_uri": "https://localhost:8080/"
        },
        "outputId": "e8840f5d-f668-46c4-ec5f-0dc1d55b6dd1"
      },
      "execution_count": null,
      "outputs": [
        {
          "output_type": "stream",
          "name": "stdout",
          "text": [
            "cleared set is; set()\n"
          ]
        }
      ]
    },
    {
      "cell_type": "code",
      "source": [
        "#18. Write a code to remove the element 4 from the set {1, 2, 3, 4}.\n",
        "s={1, 2, 3, 4}\n",
        "s.remove(4)\n",
        "print(s)"
      ],
      "metadata": {
        "id": "KdX7BYrhNfLp",
        "colab": {
          "base_uri": "https://localhost:8080/"
        },
        "outputId": "098543b7-071d-454f-d673-ae9dfe588be2"
      },
      "execution_count": null,
      "outputs": [
        {
          "output_type": "stream",
          "name": "stdout",
          "text": [
            "{1, 2, 3}\n"
          ]
        }
      ]
    },
    {
      "cell_type": "code",
      "source": [
        "#19. Write a code to find the union of two sets {1, 2, 3} and {3, 4, 5}.\n",
        "s1={1, 2, 3}\n",
        "s2={3, 4, 5}\n",
        "result=s1 or s2 #alternatevily s1.union(s2)\n",
        "print(\"union of sets is:\", result)"
      ],
      "metadata": {
        "id": "L-eOEOqUNfNh",
        "colab": {
          "base_uri": "https://localhost:8080/"
        },
        "outputId": "8728088c-278d-46f5-a380-154742a80a0b"
      },
      "execution_count": null,
      "outputs": [
        {
          "output_type": "stream",
          "name": "stdout",
          "text": [
            "union of sets is: {1, 2, 3}\n"
          ]
        }
      ]
    },
    {
      "cell_type": "code",
      "source": [
        "#20. Write a code to find the intersection of two sets {1, 2, 3} and {2, 3, 4}.\n",
        "s1={1, 2, 3}\n",
        "s2={3, 4, 5}\n",
        "result=s1 & s2 # alternatevely s1.intersection(s2\n",
        "print(\"intersection of sets is:\", result)"
      ],
      "metadata": {
        "id": "bGetsYiINfPX",
        "colab": {
          "base_uri": "https://localhost:8080/"
        },
        "outputId": "5f01c0db-c05a-4d52-9b3f-7f8d49211233"
      },
      "execution_count": null,
      "outputs": [
        {
          "output_type": "stream",
          "name": "stdout",
          "text": [
            "intersection of sets is: {3}\n"
          ]
        }
      ]
    },
    {
      "cell_type": "code",
      "source": [
        "#21. Write a code to create a dictionary with the keys \"name\", \"age\", and \"city\", and print it.\n",
        "keys_k = [\"name\", \"age\", \"city\"]\n",
        "value_v = \"PW\", 10, \"Delhi\"\n",
        "my_dict= dict(zip(keys_k, value_v))\n",
        "print(my_dict)\n"
      ],
      "metadata": {
        "id": "DCx809G-NfTP",
        "colab": {
          "base_uri": "https://localhost:8080/"
        },
        "outputId": "0b2edbff-6299-4740-d1d4-5a9f625edaf1"
      },
      "execution_count": null,
      "outputs": [
        {
          "output_type": "stream",
          "name": "stdout",
          "text": [
            "{'name': 'PW', 'age': 10, 'city': 'Delhi'}\n"
          ]
        }
      ]
    },
    {
      "cell_type": "code",
      "source": [
        "#22. Write a code to add a new key-value pair \"country\": \"USA\" to the dictionary {'name': 'John', 'age': 25}.\n",
        "d={'name': 'John', 'age': 25}\n",
        "d[\"country\"]=\"USA\"\n",
        "d"
      ],
      "metadata": {
        "id": "hGazGkFyNfXI",
        "colab": {
          "base_uri": "https://localhost:8080/"
        },
        "outputId": "48157ab4-3a08-4a5f-894b-4376ce1e490c"
      },
      "execution_count": null,
      "outputs": [
        {
          "output_type": "execute_result",
          "data": {
            "text/plain": [
              "{'name': 'John', 'age': 25, 'country': 'USA'}"
            ]
          },
          "metadata": {},
          "execution_count": 56
        }
      ]
    },
    {
      "cell_type": "code",
      "source": [
        "#23. Write a code to access the value associated with the key \"name\" in the dictionary {'name': 'Alice', 'age': 30}.\n",
        "d={'name': 'Alice', 'age': 30}\n",
        "value_v= d[\"name\"]\n",
        "print(value_v)"
      ],
      "metadata": {
        "id": "40SFvdotNfbD",
        "colab": {
          "base_uri": "https://localhost:8080/"
        },
        "outputId": "a939270f-1c8e-4580-800d-1569711f5f13"
      },
      "execution_count": null,
      "outputs": [
        {
          "output_type": "stream",
          "name": "stdout",
          "text": [
            "Alice\n"
          ]
        }
      ]
    },
    {
      "cell_type": "code",
      "source": [
        "#24. Write a code to remove the key \"age\" from the dictionary {'name': 'Bob', 'age': 22, 'city': 'New York'}.\n",
        "d={'name': 'Bob', 'age': 22, 'city': 'New York'}\n",
        "d.pop(\"age\")  #Alternatevely del d [\"age\"] (no dot and square brackets instead of parentheses)\n",
        "d"
      ],
      "metadata": {
        "id": "jyv_P458Nfe6",
        "colab": {
          "base_uri": "https://localhost:8080/"
        },
        "outputId": "f717ea03-4828-4f18-bf13-58db59d6eb92"
      },
      "execution_count": null,
      "outputs": [
        {
          "output_type": "execute_result",
          "data": {
            "text/plain": [
              "{'name': 'Bob', 'city': 'New York'}"
            ]
          },
          "metadata": {},
          "execution_count": 58
        }
      ]
    },
    {
      "cell_type": "code",
      "source": [
        "#25. Write a code to check if the key \"city\" exists in the dictionary {'name': 'Alice', 'city': 'Paris'}.\n",
        "d={'name': 'Alice', 'city': 'Paris'}\n",
        "if \"city\" in d:\n",
        "    print(\"Key 'city' exists in the dictionary.\")\n",
        "else:\n",
        "    print(\"Key 'city' does not exist in the dictionary.\")"
      ],
      "metadata": {
        "id": "WG3NyXppOwV6",
        "colab": {
          "base_uri": "https://localhost:8080/"
        },
        "outputId": "73671eb8-33b1-49f8-813a-92355738add8"
      },
      "execution_count": null,
      "outputs": [
        {
          "output_type": "stream",
          "name": "stdout",
          "text": [
            "Key 'city' exists in the dictionary.\n"
          ]
        }
      ]
    },
    {
      "cell_type": "code",
      "source": [
        "#26. Write a code to create a list, a tuple, and a dictionary, and print them all.\n",
        "\n",
        "l = [10, 20, 30, 40, 50]  # Creating a list\n",
        "\n",
        "t = (\"red\", \"green\", \"blue\") # Creating a tuple\n",
        "\n",
        "key_input = [\"name\", \"age\", \"city\"]\n",
        "value_input = \"Bob\", 22, \"New York\"\n",
        "\n",
        "d=dict(zip(key_input,value_input))  # Creating a dictionary\n",
        "\n",
        "# Printing the data structures\n",
        "print(\"List:\", l)\n",
        "print(\"Tuple:\", t)\n",
        "print(\"Dictionary:\",d)\n"
      ],
      "metadata": {
        "id": "a6FYNqUrOwgW",
        "colab": {
          "base_uri": "https://localhost:8080/"
        },
        "outputId": "b653ce9c-143b-49b4-ab5a-40c80c1e1af0"
      },
      "execution_count": null,
      "outputs": [
        {
          "output_type": "stream",
          "name": "stdout",
          "text": [
            "List: [10, 20, 30, 40, 50]\n",
            "Tuple: ('red', 'green', 'blue')\n",
            "Dictionary: {'name': 'Bob', 'age': 22, 'city': 'New York'}\n"
          ]
        }
      ]
    },
    {
      "cell_type": "code",
      "source": [
        "\n",
        "#27. Write a code to create a list of 5 random numbers between 1 and 100, sort it in ascending order, and print the result.(replaced)\n",
        "import random\n",
        "random_l = random.sample(range(1, 101), 5) # Generate a list of 5 random numbers between 1 and 100\n",
        "sorted_l = sorted(random_l) #alternatevely by .sort()\n",
        "\n",
        "print(\"Original list:\", random_l)\n",
        "print(\"Sorted list:\", sorted_l)\n"
      ],
      "metadata": {
        "id": "ryaO0R4EOwn2",
        "colab": {
          "base_uri": "https://localhost:8080/"
        },
        "outputId": "d3db52a2-2e03-4496-f5ef-dba91f95e36a"
      },
      "execution_count": null,
      "outputs": [
        {
          "output_type": "stream",
          "name": "stdout",
          "text": [
            "Original list: [50, 28, 11, 82, 58]\n",
            "Sorted list: [11, 28, 50, 58, 82]\n"
          ]
        }
      ]
    },
    {
      "cell_type": "code",
      "source": [
        "#28. Write a code to create a list with strings and print the element at the third index.\n",
        "l= [\"apple\", \"banana\", \"cherry\", \"apple\", \"banana\"]\n",
        "req_element=l[3]\n",
        "print(req_element)"
      ],
      "metadata": {
        "id": "bHOvqiEgOwxx",
        "colab": {
          "base_uri": "https://localhost:8080/"
        },
        "outputId": "40f55e26-9a02-43f2-85bd-b118e14f5d33"
      },
      "execution_count": null,
      "outputs": [
        {
          "output_type": "stream",
          "name": "stdout",
          "text": [
            "apple\n"
          ]
        }
      ]
    },
    {
      "cell_type": "code",
      "source": [
        "#29. Write a code to combine two dictionaries into one and print the result.\n",
        "d1= {'name': 'Bob', 'age': 22, 'city': 'New York'}\n",
        "d2={'school': 'PW', 'course': 'DA'}\n",
        "d1.update(d2)\n",
        "d1"
      ],
      "metadata": {
        "id": "5bNjhLutOw0m",
        "colab": {
          "base_uri": "https://localhost:8080/"
        },
        "outputId": "0ebc25b7-dbfb-48a7-a691-58144a366c2c"
      },
      "execution_count": null,
      "outputs": [
        {
          "output_type": "execute_result",
          "data": {
            "text/plain": [
              "{'name': 'Bob', 'age': 22, 'city': 'New York', 'school': 'PW', 'course': 'DA'}"
            ]
          },
          "metadata": {},
          "execution_count": 63
        }
      ]
    },
    {
      "cell_type": "code",
      "source": [
        "#30. Write a code to convert a list of strings into a set.\n",
        "l= [\"apple\", \"banana\", \"cherry\", \"apple\", \"banana\"]\n",
        "my_set=set(l)  #set will take only unique elements, also order is not preserved.\n",
        "print(my_set)\n",
        "type(my_set)"
      ],
      "metadata": {
        "id": "qHM0Xar9O666",
        "colab": {
          "base_uri": "https://localhost:8080/"
        },
        "outputId": "23d995cc-1127-4c15-a3be-3a51ebfe770f"
      },
      "execution_count": null,
      "outputs": [
        {
          "output_type": "stream",
          "name": "stdout",
          "text": [
            "{'banana', 'apple', 'cherry'}\n"
          ]
        },
        {
          "output_type": "execute_result",
          "data": {
            "text/plain": [
              "set"
            ]
          },
          "metadata": {},
          "execution_count": 64
        }
      ]
    },
    {
      "cell_type": "code",
      "source": [],
      "metadata": {
        "id": "vGsqAaN6rI-D"
      },
      "execution_count": null,
      "outputs": []
    }
  ]
}